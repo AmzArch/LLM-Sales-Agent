{
 "cells": [
  {
   "cell_type": "code",
   "execution_count": null,
   "metadata": {},
   "outputs": [],
   "source": [
    "import os\n",
    "import re\n",
    "import json\n",
    "from dotenv import load_dotenv\n",
    "\n",
    "load_dotenv()\n",
    "\n",
    "from typing import Any, Callable, Dict, List, Union\n",
    "from pydantic import BaseModel, Field\n",
    "import dspy\n",
    "from langchain.text_splitter import CharacterTextSplitter\n",
    "from langchain_openai import ChatOpenAI, OpenAIEmbeddings\n",
    "from langchain.vectorstores import Chroma\n",
    "from langchain.chains import RetrievalQA\n",
    "import chromadb\n",
    "from chromadb.utils import embedding_functions\n",
    "from dspy.retrieve.chromadb_rm import ChromadbRM"
   ]
  },
  {
   "cell_type": "code",
   "execution_count": null,
   "metadata": {},
   "outputs": [],
   "source": [
    "llm = dspy.OpenAI(model='gpt-3.5-turbo', max_tokens = 1000)\n",
    "dspy.settings.configure(lm=llm)"
   ]
  },
  {
   "cell_type": "markdown",
   "metadata": {},
   "source": [
    "## Knowledge Base Creation"
   ]
  },
  {
   "cell_type": "code",
   "execution_count": null,
   "metadata": {},
   "outputs": [],
   "source": [
    "# let's set up a dummy product catalog:\n",
    "sample_product_catalog = \"\"\"\n",
    "Sleep Haven product 1: Luxury Cloud-Comfort Memory Foam Mattress\n",
    "Experience the epitome of opulence with our Luxury Cloud-Comfort Memory Foam Mattress. Designed with an innovative, temperature-sensitive memory foam layer, this mattress embraces your body shape, offering personalized support and unparalleled comfort. The mattress is completed with a high-density foam base that ensures longevity, maintaining its form and resilience for years. With the incorporation of cooling gel-infused particles, it regulates your body temperature throughout the night, providing a perfect cool slumbering environment. The breathable, hypoallergenic cover, exquisitely embroidered with silver threads, not only adds a touch of elegance to your bedroom but also keeps allergens at bay. For a restful night and a refreshed morning, invest in the Luxury Cloud-Comfort Memory Foam Mattress.\n",
    "Price: $999\n",
    "Sizes available for this product: Twin, Queen, King\n",
    "\n",
    "Sleep Haven product 2: Classic Harmony Spring Mattress\n",
    "A perfect blend of traditional craftsmanship and modern comfort, the Classic Harmony Spring Mattress is designed to give you restful, uninterrupted sleep. It features a robust inner spring construction, complemented by layers of plush padding that offers the perfect balance of support and comfort. The quilted top layer is soft to the touch, adding an extra level of luxury to your sleeping experience. Reinforced edges prevent sagging, ensuring durability and a consistent sleeping surface, while the natural cotton cover wicks away moisture, keeping you dry and comfortable throughout the night. The Classic Harmony Spring Mattress is a timeless choice for those who appreciate the perfect fusion of support and plush comfort.\n",
    "Price: $1,299\n",
    "Sizes available for this product: Queen, King\n",
    "\n",
    "Sleep Haven product 3: EcoGreen Hybrid Latex Mattress\n",
    "The EcoGreen Hybrid Latex Mattress is a testament to sustainable luxury. Made from 100% natural latex harvested from eco-friendly plantations, this mattress offers a responsive, bouncy feel combined with the benefits of pressure relief. It is layered over a core of individually pocketed coils, ensuring minimal motion transfer, perfect for those sharing their bed. The mattress is wrapped in a certified organic cotton cover, offering a soft, breathable surface that enhances your comfort. Furthermore, the natural antimicrobial and hypoallergenic properties of latex make this mattress a great choice for allergy sufferers. Embrace a green lifestyle without compromising on comfort with the EcoGreen Hybrid Latex Mattress.\n",
    "Price: $1,599\n",
    "Sizes available for this product: Twin, Full\n",
    "\n",
    "Sleep Haven product 4: Plush Serenity Bamboo Mattress\n",
    "The Plush Serenity Bamboo Mattress takes the concept of sleep to new heights of comfort and environmental responsibility. The mattress features a layer of plush, adaptive foam that molds to your body's unique shape, providing tailored support for each sleeper. Underneath, a base of high-resilience support foam adds longevity and prevents sagging. The crowning glory of this mattress is its bamboo-infused top layer - this sustainable material is not only gentle on the planet, but also creates a remarkably soft, cool sleeping surface. Bamboo's natural breathability and moisture-wicking properties make it excellent for temperature regulation, helping to keep you cool and dry all night long. Encased in a silky, removable bamboo cover that's easy to clean and maintain, the Plush Serenity Bamboo Mattress offers a luxurious and eco-friendly sleeping experience.\n",
    "Price: $2,599\n",
    "Sizes available for this product: King\n",
    "\"\"\"\n",
    "with open(\"sample_product_catalog.txt\", \"w\") as f:\n",
    "    f.write(sample_product_catalog)\n",
    "\n",
    "product_catalog = \"sample_product_catalog.txt\""
   ]
  },
  {
   "cell_type": "code",
   "execution_count": null,
   "metadata": {},
   "outputs": [],
   "source": [
    "# Set up a knowledge base\n",
    "def setup_knowledge_base(product_catalog: str = None):\n",
    "    \"\"\"\n",
    "    We assume that the product knowledge base is simply a text file.\n",
    "    \"\"\"\n",
    "    # load product catalog\n",
    "    with open(product_catalog, \"r\") as f:\n",
    "        product_catalog = f.read()\n",
    "\n",
    "    text_splitter = CharacterTextSplitter(chunk_size=10, chunk_overlap=0)\n",
    "    texts = text_splitter.split_text(product_catalog)\n",
    "\n",
    "    llm = ChatOpenAI(temperature=0)\n",
    "    embeddings = OpenAIEmbeddings()\n",
    "    docsearch = Chroma.from_texts(\n",
    "        texts, embeddings, collection_name=\"product-knowledge-base\"\n",
    "    )\n",
    "\n",
    "    knowledge_base = RetrievalQA.from_chain_type(\n",
    "        llm=llm, chain_type=\"stuff\", retriever=docsearch.as_retriever()\n",
    "    )\n",
    "    return knowledge_base"
   ]
  },
  {
   "cell_type": "code",
   "execution_count": null,
   "metadata": {},
   "outputs": [],
   "source": [
    "knowledge_base = setup_knowledge_base(\"sample_product_catalog.txt\")\n",
    "knowledge_base.run(\"What products do you have available?\")"
   ]
  },
  {
   "cell_type": "code",
   "execution_count": null,
   "metadata": {},
   "outputs": [],
   "source": [
    "product_price_id_map = {\n",
    "    \"ai-consulting-services\": \"price_1Ow8ofB795AYY8p1goWGZi6m\",\n",
    "    \"Luxury Cloud-Comfort Memory Foam Mattress\": \"price_1Owv99B795AYY8p1mjtbKyxP\",\n",
    "    \"Classic Harmony Spring Mattress\": \"price_1Owv9qB795AYY8p1tPcxCM6T\",\n",
    "    \"EcoGreen Hybrid Latex Mattress\": \"price_1OwvLDB795AYY8p1YBAMBcbi\",\n",
    "    \"Plush Serenity Bamboo Mattress\": \"price_1OwvMQB795AYY8p1hJN2uS3S\",\n",
    "}\n",
    "with open(\"example_product_price_id_mapping.json\", \"w\") as f:\n",
    "    json.dump(product_price_id_map, f)"
   ]
  },
  {
   "cell_type": "code",
   "execution_count": null,
   "metadata": {},
   "outputs": [],
   "source": [
    "def product_price_id_mapping(product_price_id_mapping_path):\n",
    "    # Load product_price_id_mapping from a JSON file\n",
    "    with open(product_price_id_mapping_path, \"r\") as f:\n",
    "        product_price_id_mapping = json.load(f)\n",
    "\n",
    "    # Serialize the product_price_id_mapping to a JSON string for inclusion in the prompt\n",
    "    product_price_id_mapping_json_str = json.dumps(product_price_id_mapping)\n",
    "\n",
    "    # Dynamically create the enum list from product_price_id_mapping keys\n",
    "    enum_list = list(product_price_id_mapping.values()) + [\n",
    "        \"No relevant product id found\"\n",
    "    ]\n",
    "    enum_list_str = json.dumps(enum_list)\n",
    "\n",
    "    return product_price_id_mapping_json_str, enum_list_str"
   ]
  },
  {
   "cell_type": "markdown",
   "metadata": {},
   "source": [
    "### Agent Creation"
   ]
  },
  {
   "cell_type": "code",
   "execution_count": null,
   "metadata": {},
   "outputs": [],
   "source": [
    "class DecideWhichAgent(dspy.Signature):\n",
    "    \"\"\"\n",
    "    You are a routing agent which routes customers to either a sales agent or a customer account management agent.\n",
    "    Given the following conversation history, decide wether a sales agent or a customer account management agent would be better suited to solving the user's latest query.\n",
    "    If the conversation history is empty or an empty string and there is not enough information to decide, assume it is a sales related query and just selected the sales agent.\n",
    "    Answer only with 1 for sales agent and 2 for customer support\n",
    "    \"\"\"\n",
    "    \n",
    "    conversation_history = dspy.InputField(desc=\"The entire conversation histiry between a customer and a sales agent till now\")\n",
    "    answer = dspy.OutputField(desc=\"A number 1 or 2 or 0\")\n",
    "\n",
    "decideAgent = dspy.Predict(DecideWhichAgent)"
   ]
  },
  {
   "cell_type": "code",
   "execution_count": null,
   "metadata": {},
   "outputs": [],
   "source": [
    "conversation_history1 = \"Customer: Hi, I saw an ad for your new range of wireless headphones. Can you tell me more about them?\"\n",
    "conversation_history2 = \"Customer: Hi, I need help accessing my online account. I forgot my password.\""
   ]
  },
  {
   "cell_type": "code",
   "execution_count": null,
   "metadata": {},
   "outputs": [],
   "source": [
    "decideAgent(conversation_history=conversation_history1)"
   ]
  },
  {
   "cell_type": "code",
   "execution_count": null,
   "metadata": {},
   "outputs": [],
   "source": [
    "decideAgent(conversation_history=conversation_history2)"
   ]
  },
  {
   "cell_type": "code",
   "execution_count": null,
   "metadata": {},
   "outputs": [],
   "source": [
    "decideAgent(conversation_history=None)"
   ]
  },
  {
   "cell_type": "code",
   "execution_count": null,
   "metadata": {},
   "outputs": [],
   "source": [
    "decideAgent(conversation_history=\"\")\n",
    "\n",
    "# This is very wierd and I have tried fixing it as much as I could."
   ]
  },
  {
   "cell_type": "code",
   "execution_count": null,
   "metadata": {},
   "outputs": [],
   "source": [
    "class StageAnalyzer(dspy.Signature):\n",
    "    \"\"\"\n",
    "    Use the conversation history to decide which stage the conversation is at.\n",
    "    Now determine what should be the next immediate conversation stage for the agent in the sales conversation by selecting ony from the following options:\n",
    "    1. Introduction: Start the conversation by introducing yourself and your company. Be polite and respectful while keeping the tone of the conversation professional.\n",
    "    2. Qualification: Qualify the prospect by confirming if they are the right person to talk to regarding your product/service. Ensure that they have the authority to make purchasing decisions.\n",
    "    3. Value proposition: Briefly explain how your product/service can benefit the prospect. Focus on the unique selling points and value proposition of your product/service that sets it apart from competitors.\n",
    "    4. Needs analysis: Ask open-ended questions to uncover the prospect's needs and pain points. Listen carefully to their responses and take notes.\n",
    "    5. Solution presentation: Based on the prospect's needs, present your product/service as the solution that can address their pain points.\n",
    "    6. Objection handling: Address any objections that the prospect may have regarding your product/service. Be prepared to provide evidence or testimonials to support your claims.\n",
    "    7. Close: Ask for the sale by proposing a next step. This could be a demo, a trial or a meeting with decision-makers. Ensure to summarize what has been discussed and reiterate the benefits.\n",
    "\n",
    "    Only answer with a number between 1 through 7 with a best guess of what stage should the conversation continue with. \n",
    "    The answer needs to be one number only, no words.\n",
    "    If there is no conversation history, output 1.\n",
    "    Do not answer anything else nor add anything to you answer.\n",
    "    \"\"\"\n",
    "\n",
    "    conversation_history = dspy.InputField(desc=\"The entire conversation histiry between a customer and a sales agent till now\")\n",
    "    answer = dspy.OutputField()\n",
    "\n",
    "StageAnalysis = dspy.Predict(StageAnalyzer)"
   ]
  },
  {
   "cell_type": "code",
   "execution_count": null,
   "metadata": {},
   "outputs": [],
   "source": [
    "StageAnalysis(conversation_history = conversation_history1)"
   ]
  },
  {
   "cell_type": "code",
   "execution_count": null,
   "metadata": {},
   "outputs": [],
   "source": [
    "StageAnalysis(conversation_history = conversation_history2)"
   ]
  },
  {
   "cell_type": "code",
   "execution_count": null,
   "metadata": {},
   "outputs": [],
   "source": [
    "StageAnalysis(conversation_history = None)"
   ]
  },
  {
   "cell_type": "code",
   "execution_count": null,
   "metadata": {},
   "outputs": [],
   "source": [
    "class KnowledgeAugmentation(dspy.Signature):\n",
    "    \"\"\"\n",
    "    Use the conversation history to decide whether we need to retrieve context from the product catalog to retrieve knowledge.\n",
    "    Reply with a 0 if we do not need to retrieve knowledge or with a query to run of what is needed from the product catalog\n",
    "    \"\"\"\n",
    "\n",
    "    conversation_history = dspy.InputField(desc=\"The entire conversation history between a customer and a sales agent till now\")\n",
    "    answer = dspy.OutputField(desc=\"0 or a query\")\n",
    "\n",
    "KnowledgeAugmentationQuery = dspy.Predict(KnowledgeAugmentation)"
   ]
  },
  {
   "cell_type": "code",
   "execution_count": null,
   "metadata": {},
   "outputs": [],
   "source": [
    "KnowledgeAugmentationQuery(conversation_history = \"What products do you sell\")"
   ]
  },
  {
   "cell_type": "code",
   "execution_count": null,
   "metadata": {},
   "outputs": [],
   "source": [
    "KnowledgeAugmentationQuery(conversation_history = \"Do you offer free delivery\")"
   ]
  },
  {
   "cell_type": "code",
   "execution_count": null,
   "metadata": {},
   "outputs": [],
   "source": [
    "class SalesConversationReply(dspy.Signature):\n",
    "    \"\"\"\n",
    "    You are a sales agent. The following are the details of your role and company.\n",
    "    If you're asked about where you got the user's contact information, say that you got it from public records.\n",
    "    Keep your responses in short length to retain the user's attention. Never produce lists, just answers.\n",
    "    You must respond according to the previous conversation history and the stage of the conversation you are at.\n",
    "    Only generate one response at a time! When you are done generating, end with '<END_OF_TURN>' to give the user a chance to respond.\n",
    "    Example:\n",
    "        Conversation history: \n",
    "        {salesperson_name}: Hey, how are you? This is {salesperson_name} calling from {company_name}. Do you have a minute? <END_OF_TURN>\n",
    "        User: I am well, and yes, why are you calling? <END_OF_TURN>\n",
    "        {salesperson_name}:\n",
    "        End of example.\n",
    "         \n",
    "    \"\"\"\n",
    "\n",
    "    salesperson_name = dspy.InputField(desc=\"The name you are operating under\")\n",
    "    salesperson_role = dspy.InputField(desc=\"This is the role you are replying to the customer as\")\n",
    "    company_name = dspy.InputField(desc=\"You work at this company\")\n",
    "    company_business = dspy.InputField(desc=\"The company does this business\")\n",
    "    company_values = dspy.InputField(desc=\"These are the company values\")\n",
    "    conversation_purpose = dspy.InputField(desc=\"The reason you are contacting a potential customer\")\n",
    "    conversation_type = dspy.InputField(desc=\"Your means of contacting the prospect\")\n",
    "    conversation_stage = dspy.InputField(desc=\"Current conversation stage\")\n",
    "    conversation_history = dspy.InputField(desc=\"the Conversation History\")\n",
    "    context = dspy.InputField(desc = \"Any context retrieved to answer the query\")\n",
    "    answer = dspy.OutputField()\n",
    "\n",
    "\n",
    "SalesReply = dspy.Predict(SalesConversationReply)"
   ]
  },
  {
   "cell_type": "code",
   "execution_count": null,
   "metadata": {},
   "outputs": [],
   "source": [
    "SalesReply(conversation_history = conversation_history1)"
   ]
  },
  {
   "cell_type": "code",
   "execution_count": null,
   "metadata": {},
   "outputs": [],
   "source": [
    "conversation_stages = {\n",
    "    \"1\": \"Introduction: Start the conversation by introducing yourself and your company. Be polite and respectful while keeping the tone of the conversation professional. Your greeting should be welcoming. Always clarify in your greeting the reason why you are contacting the prospect.\",\n",
    "    \"2\": \"Qualification: Qualify the prospect by confirming if they are the right person to talk to regarding your product/service. Ensure that they have the authority to make purchasing decisions.\",\n",
    "    \"3\": \"Value proposition: Briefly explain how your product/service can benefit the prospect. Focus on the unique selling points and value proposition of your product/service that sets it apart from competitors.\",\n",
    "    \"4\": \"Needs analysis: Ask open-ended questions to uncover the prospect's needs and pain points. Listen carefully to their responses and take notes.\",\n",
    "    \"5\": \"Solution presentation: Based on the prospect's needs, present your product/service as the solution that can address their pain points.\",\n",
    "    \"6\": \"Objection handling: Address any objections that the prospect may have regarding your product/service. Be prepared to provide evidence or testimonials to support your claims.\",\n",
    "    \"7\": \"Close: Ask for the sale by proposing a next step. This could be a demo, a trial or a meeting with decision-makers. Ensure to summarize what has been discussed and reiterate the benefits.\",\n",
    "}"
   ]
  },
  {
   "cell_type": "code",
   "execution_count": null,
   "metadata": {},
   "outputs": [],
   "source": [
    "class getProductIDfromQuery(dspy.Signature):\n",
    "    \"\"\"\n",
    "    You are an expert data scientist and you are working on a project to recommend products to customers based on their needs.\n",
    "    Given a query and the following product id mapping return the price id that is most relevant to the query.\n",
    "    ONLY return the price id, no other text. If no relevant price id is found, return 'No relevant price id found'.\n",
    "    Your output will follow this schema while replacing enum_list_str from the inputs given:\n",
    "    {{\n",
    "    \"$schema\": \"http://json-schema.org/draft-07/schema#\",\n",
    "    \"title\": \"Price ID Response\",\n",
    "    \"type\": \"object\",\n",
    "    \"properties\": {{\n",
    "        \"price_id\": {{\n",
    "        \"type\": \"string\",\n",
    "        \"enum\": {enum_list_str}\n",
    "        }}\n",
    "    }},\n",
    "    \"required\": [\"price_id\"]\n",
    "    }}\n",
    "    Return a valid directly parsable json, dont return in it within a code snippet or add any kind of explanation!!\n",
    "    \"\"\"\n",
    "\n",
    "    query = dspy.InputField(desc=\"User Query\")\n",
    "    product_price_id_mapping_json_str = dspy.InputField(desc=\"Product ID Mapping\")\n",
    "    enum_list_str = dspy.InputField(desc = \"The enum_list_str to be filled out in the json output\")\n",
    "    answer = dspy.OutputField()\n",
    "\n",
    "product_id_from_Query = dspy.Predict(getProductIDfromQuery)"
   ]
  },
  {
   "cell_type": "code",
   "execution_count": null,
   "metadata": {},
   "outputs": [],
   "source": [
    "import json\n",
    "\n",
    "import requests\n",
    "\n",
    "\n",
    "def generate_stripe_payment_link(query: str) -> str:\n",
    "    \"\"\"Generate a stripe payment link for a customer based on a single query string.\"\"\"\n",
    "\n",
    "    PRODUCT_PRICE_MAPPING = \"example_product_price_id_mapping.json\"\n",
    "    product_price_id_mapping_json_str, enum_list_str = product_price_id_mapping(product_price_id_mapping_path=PRODUCT_PRICE_MAPPING)\n",
    "\n",
    "    # use LLM to get the price_id from query\n",
    "    product_id = product_id_from_Query(query = query, product_price_id_mapping_json_str=product_price_id_mapping_json_str, enum_list_str=enum_list_str)\n",
    "    price_id = product_id.answer.strip()\n",
    "    price_id = json.loads(price_id)\n",
    "    payload = json.dumps(\n",
    "        {\"prompt\": query, **price_id}\n",
    "    )\n",
    "    return payload"
   ]
  },
  {
   "cell_type": "code",
   "execution_count": null,
   "metadata": {},
   "outputs": [],
   "source": [
    "generate_stripe_payment_link(\n",
    "    query=\"Please generate a payment link for John Doe to buy the Classic Harmony Spring Mattress\"\n",
    ")"
   ]
  },
  {
   "cell_type": "code",
   "execution_count": null,
   "metadata": {},
   "outputs": [],
   "source": [
    "config = dict(\n",
    "    salesperson_name=\"Ted Lasso\",\n",
    "    salesperson_role=\"Business Development Representative\",\n",
    "    company_name=\"Sleep Haven\",\n",
    "    company_business=\"Sleep Haven is a premium mattress company that provides customers with the most comfortable and supportive sleeping experience possible. We offer free delivery on all matresses.\",\n",
    "    company_values=\"Our mission at Sleep Haven is to help people achieve a better night's sleep by providing them with the best possible sleep solutions. We believe that quality sleep is essential to overall health and well-being, and we are committed to helping our customers achieve optimal sleep by offering exceptional products and customer service.\",\n",
    "    conversation_purpose=\"find out whether they are looking to achieve better sleep via buying a premier mattress.\",\n",
    "    conversation_history=None,\n",
    "    conversation_type=\"call\",\n",
    "    conversation_stage=conversation_stages.get(\"1\"),\n",
    "    context = \"None\"\n",
    ")"
   ]
  },
  {
   "cell_type": "code",
   "execution_count": null,
   "metadata": {},
   "outputs": [],
   "source": [
    "config[\"salesperson_name\"]"
   ]
  },
  {
   "cell_type": "code",
   "execution_count": null,
   "metadata": {},
   "outputs": [],
   "source": [
    "conversation_stages.get(\"1\")"
   ]
  },
  {
   "cell_type": "code",
   "execution_count": null,
   "metadata": {},
   "outputs": [],
   "source": [
    "class GiveProductInfo():\n",
    "    name = \"GiveProductInfo\"\n",
    "    input_variable = \"Query to retrieve product info\"\n",
    "    desc = \"Takes a query input to retrieve relevant informaton from the product catalog\"\n",
    "\n",
    "    def __init__(self, k=5):\n",
    "        pass\n",
    "        # self.input_variable = input_variable\n",
    "   \n",
    "    def __call__(self, *args, **kwargs):\n",
    "        return knowledge_base.run(self.input_variable)"
   ]
  },
  {
   "cell_type": "code",
   "execution_count": null,
   "metadata": {},
   "outputs": [],
   "source": [
    "productTool = GiveProductInfo()\n",
    "sales_tool = dspy.ReAct(SalesConversationReply, tools = [productTool])"
   ]
  },
  {
   "cell_type": "code",
   "execution_count": null,
   "metadata": {},
   "outputs": [],
   "source": [
    "# sales_tool( **(config | {\"conversation_history\": \"Which products do you offer\"}))"
   ]
  },
  {
   "cell_type": "code",
   "execution_count": null,
   "metadata": {},
   "outputs": [],
   "source": [
    "# llm.inspect_history()"
   ]
  },
  {
   "cell_type": "code",
   "execution_count": null,
   "metadata": {},
   "outputs": [],
   "source": [
    "SalesConversationReply"
   ]
  },
  {
   "cell_type": "code",
   "execution_count": null,
   "metadata": {},
   "outputs": [],
   "source": [
    "class ResponseEngine():\n",
    "    def __init__(self, config) -> None:\n",
    "        self.conversation_history = config[\"conversation_history\"]\n",
    "        self.salesperson_name=config[\"salesperson_name\"]\n",
    "        self.salesperson_role=config[\"salesperson_role\"]\n",
    "        self.company_name=config[\"company_name\"]\n",
    "        self.company_business=config[\"company_business\"]\n",
    "        self.company_values=config[\"company_values\"]\n",
    "        self.conversation_purpose=config[\"conversation_purpose\"]\n",
    "        self.conversation_type=config[\"conversation_type\"]\n",
    "        self.conversation_stage=config[\"conversation_stage\"]\n",
    "        self.agent = None\n",
    "\n",
    "        if self.conversation_history ==\"\" or self.conversation_history==None or self.conversation_history==[]:\n",
    "            self.conversation_stage = config.get(\"1\")\n",
    "            self.conversation_history = None\n",
    "\n",
    "    def reply(self):\n",
    "        agent = decideAgent(conversation_history = self.conversation_history).answer\n",
    "\n",
    "        if agent == \"1\":\n",
    "            query = KnowledgeAugmentationQuery(conversation_history = self.conversation_history).answer\n",
    "            print(query)\n",
    "            if query == '0':\n",
    "                stage = StageAnalysis(conversation_history = self.conversation_history)\n",
    "                reply = SalesReply(**(config | {\"conversation_stage\": conversation_stages.get(stage)})).answer\n",
    "            else:\n",
    "                context = knowledge_base.run(query)\n",
    "                stage = StageAnalysis(conversation_history = self.conversation_history)\n",
    "                reply = SalesReply(**(config | {\"conversation_stage\": conversation_stages.get(stage), \"conext\": context})).answer\n",
    "\n",
    "        else:\n",
    "            reply = \"Doing Customer Account Management API Calls\"\n",
    "        if self.conversation_history == None:\n",
    "            self.conversation_history = \"\"\n",
    "        self.conversation_history = self.conversation_history + \"\\n\" + self.salesperson_name + \": \" + reply\n",
    "        config[\"conversation_history\"] = self.conversation_history\n",
    "        \n",
    "        return reply, self.conversation_history"
   ]
  },
  {
   "cell_type": "code",
   "execution_count": null,
   "metadata": {},
   "outputs": [],
   "source": [
    "response_engine = ResponseEngine(config=config)"
   ]
  },
  {
   "cell_type": "code",
   "execution_count": null,
   "metadata": {},
   "outputs": [],
   "source": [
    "response_engine.reply()"
   ]
  },
  {
   "cell_type": "code",
   "execution_count": null,
   "metadata": {},
   "outputs": [],
   "source": [
    "print(config[\"conversation_history\"])"
   ]
  },
  {
   "cell_type": "code",
   "execution_count": null,
   "metadata": {},
   "outputs": [],
   "source": [
    "# Function to handle the conversation loop\n",
    "def conversation_loop():\n",
    "    while True:\n",
    "        # User input\n",
    "        user_reply = input(\"You: \")\n",
    "        if user_reply.lower() == 'exit':\n",
    "            print(\"Conversation ended.\")\n",
    "            break\n",
    "        \n",
    "        # Update conversation history\n",
    "        config[\"conversation_history\"] += f\"\\nUser: {user_reply}\"\n",
    "        \n",
    "        # Get response from the response engine\n",
    "        system_response = response_engine.reply()\n",
    "        \n",
    "        # Display the system response\n",
    "        print(system_response)"
   ]
  },
  {
   "cell_type": "code",
   "execution_count": null,
   "metadata": {},
   "outputs": [],
   "source": [
    "# Start the conversation loop\n",
    "if __name__ == \"__main__\":\n",
    "    conversation_loop()"
   ]
  }
 ],
 "metadata": {
  "kernelspec": {
   "display_name": "Python 3",
   "language": "python",
   "name": "python3"
  },
  "language_info": {
   "codemirror_mode": {
    "name": "ipython",
    "version": 3
   },
   "file_extension": ".py",
   "mimetype": "text/x-python",
   "name": "python",
   "nbconvert_exporter": "python",
   "pygments_lexer": "ipython3",
   "version": "3.10.12"
  }
 },
 "nbformat": 4,
 "nbformat_minor": 2
}
